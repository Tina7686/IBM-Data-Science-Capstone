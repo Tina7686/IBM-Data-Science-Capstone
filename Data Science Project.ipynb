{
 "cells": [
  {
   "cell_type": "markdown",
   "id": "06cc390a",
   "metadata": {},
   "source": [
    "# Data Science fools and Ecosystem"
   ]
  },
  {
   "cell_type": "markdown",
   "id": "2473be24",
   "metadata": {},
   "source": [
    "## Introduction\n",
    "In this notebook, we will explore various aspects of data science, including languages, libraries, and tools. We will also perform some basic arithmetic operations and conversions to demonstrate coding capabilities."
   ]
  },
  {
   "cell_type": "markdown",
   "id": "85a70758",
   "metadata": {},
   "source": [
    "## Data Science Languages\n",
    "Among the libraries that data scientists frequently utilise are the following:\n",
    "- Python\n",
    "- R\n",
    "- SQL\n",
    "- Java\n",
    "- Julia"
   ]
  },
  {
   "cell_type": "markdown",
   "id": "7950d457",
   "metadata": {},
   "source": [
    "## Data Science Libraries\n",
    "Among the libraries that data scientists frequently utilise are the following:\n",
    "- NumPy\n",
    "- Pandas\n",
    "- Matplotlib\n",
    "- Scikit-learn\n",
    "- TensorFlow"
   ]
  },
  {
   "cell_type": "markdown",
   "id": "5ae5188a",
   "metadata": {},
   "source": [
    "## Data Science Tools\n",
    "| Tool         | Description                   |\n",
    "|--------------|-------------------------------|\n",
    "| Jupyter      | Interactive computing environment |\n",
    "| RStudio      | Integrated development environment for R |\n",
    "| GitHub        | Version control and collaboration platform |\n",
    "| Tableau      | Data visualization tool        |\n",
    "| Apache Spark | Big data processing framework  |"
   ]
  },
  {
   "cell_type": "markdown",
   "id": "d80d52d6",
   "metadata": {},
   "source": [
    "## Arithmetic Expression Examples\n",
    "Below, we will perform some arithmetic operations such as multiplication and addition, and convert minutes to hours."
   ]
  },
  {
   "cell_type": "code",
   "execution_count": 3,
   "id": "0cbc73c5",
   "metadata": {},
   "outputs": [
    {
     "data": {
      "text/plain": [
       "17"
      ]
     },
     "execution_count": 3,
     "metadata": {},
     "output_type": "execute_result"
    }
   ],
   "source": [
    "# Multiplying and adding numbers\n",
    "(3*4)+5"
   ]
  },
  {
   "cell_type": "code",
   "execution_count": 2,
   "id": "9aa6a005",
   "metadata": {},
   "outputs": [
    {
     "data": {
      "text/plain": [
       "2"
      ]
     },
     "execution_count": 2,
     "metadata": {},
     "output_type": "execute_result"
    }
   ],
   "source": [
    "# Convert minutes to hours\n",
    "120//60"
   ]
  },
  {
   "cell_type": "markdown",
   "id": "88b53e0d",
   "metadata": {},
   "source": [
    "## Objectives\n",
    "1. To comprehend data science's fundamental elements.\n",
    "2. To familiarise oneself with widely used libraries and programming languages in data science.\n",
    "3. To use Python code to carry out basic arithmetic operations and conversions."
   ]
  },
  {
   "cell_type": "markdown",
   "id": "2f926dc3",
   "metadata": {},
   "source": [
    "## Author\n",
    "Tina Chung"
   ]
  }
 ],
 "metadata": {
  "kernelspec": {
   "display_name": "Python 3 (ipykernel)",
   "language": "python",
   "name": "python3"
  },
  "language_info": {
   "codemirror_mode": {
    "name": "ipython",
    "version": 3
   },
   "file_extension": ".py",
   "mimetype": "text/x-python",
   "name": "python",
   "nbconvert_exporter": "python",
   "pygments_lexer": "ipython3",
   "version": "3.10.9"
  }
 },
 "nbformat": 4,
 "nbformat_minor": 5
}
